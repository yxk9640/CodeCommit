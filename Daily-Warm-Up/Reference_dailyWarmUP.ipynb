{
 "cells": [
  {
   "cell_type": "markdown",
   "metadata": {
    "id": "kNJm1igJT8D7"
   },
   "source": [
    "#Daily Questions\n",
    "\n",
    "1. [DFS](#scrollTo=_9VFYdOVUbPi)\n",
    "2. [BFS]()\n",
    "3. [Binary Search](#scrollTo=ZWrQW3lwZix1)\n",
    "4. [Sliding Window](#scrollTo=qrmtRnhXZpHi)\n",
    "5. [Recursion](#scrollTo=Dvt_GrnM7HLe)\n",
    "6. [LinkedList](#scrollTo=LktDsRybGArE)\n",
    "7. [BackTrack](#scrollTo=jRDYkaJTl3Yh)\n",
    "8. [Sorting](#scrollTo=Q6uoCQXDqWL6)- (1051. Height Checker)\n",
    "9. [Dynamic Programming]()\n",
    "\n",
    "\n"
   ]
  },
  {
   "cell_type": "markdown",
   "metadata": {
    "id": "_9VFYdOVUbPi"
   },
   "source": [
    "##DFS\n",
    "563. Binary Tree Tilt\n",
    "\n",
    "Given the root of a binary tree, return the sum of every tree node's tilt.\n",
    "\n",
    "The tilt of a tree node is the absolute difference between the sum of all left subtree node values and all right subtree node values. If a node does not have a left child, then the sum of the left subtree node values is treated as 0. The rule is similar if the node does not have a right child.\n",
    "https://leetcode.com/problems/binary-tree-tilt/description/\n",
    "\n",
    "---\n",
    "* 100. Same Tree ❌\n",
    "* 111. Minimum Depth of Binary Tree ❌\n",
    "* Tilt ❌\n",
    "\n",
    "\n"
   ]
  },
  {
   "cell_type": "code",
   "execution_count": null,
   "metadata": {
    "colab": {
     "base_uri": "https://localhost:8080/"
    },
    "executionInfo": {
     "elapsed": 204,
     "status": "ok",
     "timestamp": 1719154495964,
     "user": {
      "displayName": "Mr kayo",
      "userId": "12554278715420552530"
     },
     "user_tz": 420
    },
    "id": "qwn0JB1EUeGc",
    "outputId": "034251e9-8431-4e67-f664-0750e07886cc"
   },
   "outputs": [
    {
     "name": "stdout",
     "output_type": "stream",
     "text": [
      "4\n"
     ]
    }
   ],
   "source": [
    "from typing import Optional\n",
    "\n",
    "class TreeNode:\n",
    "  def __init__(self, val=0, left=None, right=None):\n",
    "      self.val = val\n",
    "      self.left = left\n",
    "      self.right = right\n",
    "class SolutionBST:\n",
    "   def maxDiameter(self, root):\n",
    "    depth= 0\n",
    "    def maxDepth(node):\n",
    "        nonlocal depth\n",
    "        if not node:\n",
    "            return 0\n",
    "\n",
    "        left = maxDepth(node.left)\n",
    "        right = maxDepth(node.right)\n",
    "        depth = max(depth, left+right)\n",
    "\n",
    "        return 1 + max(left , right)\n",
    "    maxDepth(root)\n",
    "    return depth\n",
    "\n",
    "\n",
    "sol = SolutionBST()\n",
    "# root1 = TreeNode(1, (TreeNode( 2)), TreeNode(3) )\n",
    "# root2 = TreeNode(1, (TreeNode( 2)), TreeNode(3) )\n",
    "root = TreeNode(4, (TreeNode( 2, TreeNode(3), TreeNode(5)) ) , (TreeNode(9, None, TreeNode(7))) ) #15\n",
    "print(sol.maxDiameter(root))"
   ]
  },
  {
   "cell_type": "markdown",
   "metadata": {
    "id": "4ulXK_felfdX"
   },
   "source": [
    "##BFS"
   ]
  },
  {
   "cell_type": "code",
   "execution_count": null,
   "metadata": {
    "colab": {
     "base_uri": "https://localhost:8080/"
    },
    "executionInfo": {
     "elapsed": 359,
     "status": "ok",
     "timestamp": 1719294076324,
     "user": {
      "displayName": "Mr kayo",
      "userId": "12554278715420552530"
     },
     "user_tz": 420
    },
    "id": "3pFiSfk9lf9I",
    "outputId": "05a7a10d-aa88-4217-cc7b-b5ecc10aa505"
   },
   "outputs": [
    {
     "name": "stdout",
     "output_type": "stream",
     "text": [
      "[4, 11, 15]\n"
     ]
    }
   ],
   "source": [
    "from collections import deque\n",
    "class TreeNode:\n",
    "  def __init__(self, val=0, left=None, right=None):\n",
    "      self.val = val\n",
    "      self.left = left\n",
    "      self.right = right\n",
    "class BFSSolution:\n",
    "    def level_order_sum(self, root: TreeNode):\n",
    "      # Your code goes here\n",
    "      if not root:\n",
    "          return []\n",
    "      result = []\n",
    "      queue = deque([root])\n",
    "\n",
    "      while queue:\n",
    "          level_sz = len(queue)\n",
    "          # cur_level = []\n",
    "          sum = 0\n",
    "          for _ in range(level_sz):\n",
    "              cur_node = queue.popleft()\n",
    "              # cur_level.append(cur_node.val)\n",
    "              sum+=cur_node.val\n",
    "\n",
    "              if cur_node.left:\n",
    "                  queue.append(cur_node.left)\n",
    "              if cur_node.right:\n",
    "                  queue.append(cur_node.right)\n",
    "          result.append(sum)\n",
    "      return result\n",
    "\n",
    "sol = BFSSolution()\n",
    "# root1 = TreeNode(1, (TreeNode( 2)), TreeNode(3) )\n",
    "# root2 = TreeNode(1, (TreeNode( 2)), TreeNode(3) )\n",
    "root = TreeNode(4, (TreeNode( 2, TreeNode(3), TreeNode(5)) ) , (TreeNode(9, None, TreeNode(7))) ) #[4, 11, 15]\n",
    "print(sol.level_order_sum(root))"
   ]
  },
  {
   "cell_type": "markdown",
   "metadata": {
    "id": "ZWrQW3lwZix1"
   },
   "source": [
    "##Binary Search"
   ]
  },
  {
   "cell_type": "markdown",
   "metadata": {
    "id": "6ZhycYox6baz"
   },
   "source": []
  },
  {
   "cell_type": "code",
   "execution_count": null,
   "metadata": {
    "colab": {
     "base_uri": "https://localhost:8080/"
    },
    "executionInfo": {
     "elapsed": 202,
     "status": "ok",
     "timestamp": 1717604041447,
     "user": {
      "displayName": "Mr kayo",
      "userId": "12554278715420552530"
     },
     "user_tz": 420
    },
    "id": "252akr0uXK6o",
    "outputId": "90ed4bd3-4375-4669-e127-b1a9cbf3e5c5"
   },
   "outputs": [
    {
     "name": "stdout",
     "output_type": "stream",
     "text": [
      "sorted -  [1, 2, 3, 4, 5, 6, 7]\n",
      "-1\n"
     ]
    }
   ],
   "source": [
    "#Binary\n",
    "def bSearch(array, target) -> int:\n",
    "  array.sort()\n",
    "  print(f'sorted - ', array)\n",
    "  left, right = 0, len(array) - 1\n",
    "\n",
    "  while( left <= right):\n",
    "    mid = (left + right) // 2\n",
    "    if array[mid] == target:\n",
    "      return mid\n",
    "    elif target < array[mid]:\n",
    "      right = mid - 1\n",
    "    elif target > array[mid]:\n",
    "      left = mid + 1\n",
    "  return -1\n",
    "\n",
    "\n",
    "print(bSearch([3,4,6,7,2,1,5],10))"
   ]
  },
  {
   "cell_type": "markdown",
   "metadata": {
    "id": "qrmtRnhXZpHi"
   },
   "source": [
    "##Sliding Window\n",
    "1763. Longest Nice Substring"
   ]
  },
  {
   "cell_type": "markdown",
   "metadata": {
    "id": "vDPa3O8s6X9X"
   },
   "source": [
    "**Question**:\n",
    "2760. Longest Even Odd Subarray With Threshold\n",
    "https://leetcode.com/problems/longest-even-odd-subarray-with-threshold/submissions/1273671794/\n",
    "\n",
    "----\n",
    "Try divisorSubstrings-**2269**. Later"
   ]
  },
  {
   "cell_type": "code",
   "execution_count": null,
   "metadata": {
    "colab": {
     "base_uri": "https://localhost:8080/"
    },
    "executionInfo": {
     "elapsed": 186,
     "status": "ok",
     "timestamp": 1719157245816,
     "user": {
      "displayName": "Mr kayo",
      "userId": "12554278715420552530"
     },
     "user_tz": 420
    },
    "id": "tJrMRT_bZo4-",
    "outputId": "fd3c0cd6-c4d4-4c3b-8094-eac91516a435"
   },
   "outputs": [
    {
     "name": "stdout",
     "output_type": "stream",
     "text": [
      "Slide Window: \n",
      "Long Sub Array -  3\n"
     ]
    }
   ],
   "source": [
    "from typing import List\n",
    "class SlideWindow:\n",
    "  def longestAlternatingSubarray(self, nums: List[int], threshold: int) -> int:\n",
    "    longSub, l, r = 0, 0, 0\n",
    "\n",
    "    while l < len(nums):\n",
    "      # given condition - 1 and 3\n",
    "      if nums[l] % 2 == 0 and nums[l] <= threshold:\n",
    "        curLen =1\n",
    "        r = l\n",
    "        # check if next elements satify conditions 2,3\n",
    "        # if yes increase lenght of cur arr\n",
    "        while r + 1 < len(nums) and nums[r]<= threshold and nums[r+1]<= threshold and nums[r]%2 != nums[r+1]%2:\n",
    "          r+=1\n",
    "          curLen+=1\n",
    "        longSub = max(curLen, longSub)\n",
    "        l = r + 1\n",
    "      else:\n",
    "        l += 1\n",
    "    return longSub\n",
    "\n",
    "\n",
    "sol = SlideWindow()\n",
    "print(\"Slide Window: \")\n",
    "print(\"Long Sub Array - \", sol.longestAlternatingSubarray([3,2,5,4], 5))"
   ]
  },
  {
   "cell_type": "markdown",
   "metadata": {
    "id": "LktDsRybGArE"
   },
   "source": [
    "##Linked List"
   ]
  },
  {
   "cell_type": "markdown",
   "metadata": {
    "id": "Yb7sDdDSGLk6"
   },
   "source": [
    "203. Remove Linked List Elements\n"
   ]
  },
  {
   "cell_type": "code",
   "execution_count": null,
   "metadata": {
    "colab": {
     "base_uri": "https://localhost:8080/"
    },
    "executionInfo": {
     "elapsed": 189,
     "status": "ok",
     "timestamp": 1719156595614,
     "user": {
      "displayName": "Mr kayo",
      "userId": "12554278715420552530"
     },
     "user_tz": 420
    },
    "id": "z1WNHbgsGQ8t",
    "outputId": "0545d800-8ba0-49c0-a89a-931099193278"
   },
   "outputs": [
    {
     "name": "stdout",
     "output_type": "stream",
     "text": [
      "1\n",
      "2\n",
      "3\n",
      "4\n",
      "5\n"
     ]
    }
   ],
   "source": [
    "from typing import Optional\n",
    "class ListNode:\n",
    "  def __init__(self, val=0, next=None):\n",
    "    self.val = val\n",
    "    self.next = next\n",
    "\n",
    "class SolutionLinkedList:\n",
    "  def removeElements(self, head: Optional[ListNode], val: int) -> Optional[ListNode]:\n",
    "    if not head:\n",
    "      return None\n",
    "\n",
    "    temp = ListNode()\n",
    "    temp.next = head\n",
    "    cur = temp\n",
    "\n",
    "    while cur.next:\n",
    "      if cur.next.val == val:\n",
    "        cur.next = cur.next.next\n",
    "      else:\n",
    "        cur = cur.next\n",
    "\n",
    "    return temp.next\n",
    "\n",
    "# Example usage\n",
    "head = ListNode(1,\n",
    "       ListNode(2,\n",
    "       ListNode(6,\n",
    "       ListNode(3,\n",
    "       ListNode(4,\n",
    "       ListNode(5,\n",
    "       ListNode(6)))))))\n",
    "\n",
    "\n",
    "\n",
    "solution = SolutionLinkedList()\n",
    "new_head = solution.removeElements(head, 6)\n",
    "while new_head:\n",
    "  print(new_head.val)\n",
    "  new_head = new_head.next"
   ]
  },
  {
   "cell_type": "markdown",
   "metadata": {
    "id": "Dvt_GrnM7HLe"
   },
   "source": [
    "##Recursion"
   ]
  },
  {
   "cell_type": "markdown",
   "metadata": {
    "id": "o6mAufG4p5oi"
   },
   "source": [
    "Given a linked list, swap every two adjacent nodes and return its head. You must solve the problem without modifying the values in the list's nodes (i.e., only nodes themselves may be changed.)\n",
    "\n",
    "\n",
    "---\n",
    "Recursion approach:"
   ]
  },
  {
   "cell_type": "code",
   "execution_count": null,
   "metadata": {
    "colab": {
     "base_uri": "https://localhost:8080/"
    },
    "executionInfo": {
     "elapsed": 205,
     "status": "ok",
     "timestamp": 1719155943343,
     "user": {
      "displayName": "Mr kayo",
      "userId": "12554278715420552530"
     },
     "user_tz": 420
    },
    "id": "uV7bcQN5a6CJ",
    "outputId": "6cece63f-1f57-4194-9072-d323043b7282"
   },
   "outputs": [
    {
     "name": "stdout",
     "output_type": "stream",
     "text": [
      "2\n",
      "1\n",
      "4\n",
      "3\n"
     ]
    }
   ],
   "source": [
    "from typing import Optional\n",
    "class ListNode2:\n",
    "  def __init__(self, val=0, next=None):\n",
    "    self.val = val\n",
    "    self.next = next\n",
    "\n",
    "class RecurSolutionLinkedList:\n",
    "  # check for name ListNode use ListNode2\n",
    "  def swapPairs(self, head: Optional[ListNode2])-> Optional[ListNode2]:\n",
    "    if not head:\n",
    "      return None\n",
    "    elif not head.next:\n",
    "      return head\n",
    "    else:\n",
    "      temp = head.next\n",
    "      head.next = self.swapPairs(head.next.next)\n",
    "      temp.next = head\n",
    "\n",
    "    return temp\n",
    "\n",
    "'''\n",
    "1,2,3,4 -> 2,1,4,3\n",
    "\n",
    "function call |swap(1)                | swap(3)       |  swap(None)   |\n",
    "base case     |                       |               |  return None  |\n",
    "\n",
    "temp =        | 2                     | 4             |               |\n",
    "head.next =   |4 <-3                  | None <- None  |               |\n",
    "wait until above function returns the result\n",
    "temp.next =   | 1                     | 3             |               |\n",
    "\n",
    "return temp   | 2->1->4->3->None      | 4->3 -> None  | None          |\n",
    "4 -> 3\n",
    "\n",
    "2 -> 1\n",
    "\n",
    "'''\n",
    "\n",
    "\n",
    "\n",
    "# Example usage\n",
    "head = ListNode2(1)\n",
    "head.next = ListNode2(2)\n",
    "head.next.next = ListNode2(3)\n",
    "head.next.next.next = ListNode2(4)\n",
    "\n",
    "solution = RecurSolutionLinkedList()\n",
    "new_head = solution.swapPairs(head)\n",
    "while new_head:\n",
    "  print(new_head.val)\n",
    "  new_head = new_head.next"
   ]
  },
  {
   "cell_type": "markdown",
   "metadata": {
    "id": "jRDYkaJTl3Yh"
   },
   "source": [
    "##BackTracking"
   ]
  },
  {
   "cell_type": "code",
   "execution_count": null,
   "metadata": {
    "colab": {
     "base_uri": "https://localhost:8080/"
    },
    "executionInfo": {
     "elapsed": 174,
     "status": "ok",
     "timestamp": 1717695570608,
     "user": {
      "displayName": "Mr kayo",
      "userId": "12554278715420552530"
     },
     "user_tz": 420
    },
    "id": "85WAoTgDmRbs",
    "outputId": "98bb7265-b5b7-41e1-b4e9-4a7b730c3b21"
   },
   "outputs": [
    {
     "name": "stdout",
     "output_type": "stream",
     "text": [
      "['ad', 'ae', 'af', 'bd', 'be', 'bf', 'cd', 'ce', 'cf']\n"
     ]
    }
   ],
   "source": [
    "from typing import List\n",
    "class Solution:\n",
    "    def letterCombinations(self, digits: str) -> List[str]:\n",
    "      res = []\n",
    "      if len(digits) == 0 or digits==None: return res\n",
    "      digitToChar = {\n",
    "          \"2\" : \"abc\",\n",
    "          \"3\" : \"def\",\n",
    "          \"4\" : \"ghi\",\n",
    "          \"5\" : \"jkl\",\n",
    "          \"6\" : \"mno\",\n",
    "          \"7\" : \"pqrs\",\n",
    "          \"8\" : \"tuv\",\n",
    "          \"9\" : \"wxyz\",\n",
    "      }\n",
    "\n",
    "      def backtrack(idx, curStr):\n",
    "        if len(curStr) == len(digits):\n",
    "          res.append(curStr)\n",
    "          return\n",
    "\n",
    "        for c in digitToChar[digits[idx]]:\n",
    "          backtrack(idx + 1, curStr+c)\n",
    "\n",
    "      if digits:\n",
    "        backtrack(0, \"\")\n",
    "      return res\n",
    "\n",
    "\n",
    "sol = Solution()\n",
    "print(sol.letterCombinations(\"23\"))"
   ]
  },
  {
   "cell_type": "markdown",
   "metadata": {
    "id": "Q6uoCQXDqWL6"
   },
   "source": [
    "##Sorting\n",
    "\n",
    "merge Sort"
   ]
  },
  {
   "cell_type": "code",
   "execution_count": null,
   "metadata": {
    "colab": {
     "base_uri": "https://localhost:8080/"
    },
    "executionInfo": {
     "elapsed": 4,
     "status": "ok",
     "timestamp": 1718290428653,
     "user": {
      "displayName": "Mr kayo",
      "userId": "12554278715420552530"
     },
     "user_tz": 420
    },
    "id": "zqx5eDtaqY7v",
    "outputId": "c4be5747-a5e9-40d4-b6e5-5a59aa507f6d"
   },
   "outputs": [
    {
     "name": "stdout",
     "output_type": "stream",
     "text": [
      "[1, 2, 3, 4, 5, 6, 7]\n"
     ]
    }
   ],
   "source": [
    "def merge(arr1,arr2):\n",
    "  res = []\n",
    "  left, right  =  0, 0\n",
    "\n",
    "  while left < len(arr1) and right < len(arr2):\n",
    "    if arr1[left] <= arr2[right]:\n",
    "      res.append(arr1[left])\n",
    "      left+=1\n",
    "    else:\n",
    "      res.append(arr2[right])\n",
    "      right+=1\n",
    "  # add remaining elements\n",
    "  while left < len(arr1):\n",
    "    res.append(arr1[left])\n",
    "    left+=1\n",
    "  while right < len(arr2):\n",
    "    res.append(arr2[right])\n",
    "    right+=1\n",
    "  return res\n",
    "\n",
    "\n",
    "\n",
    "def merge_sort(arr):\n",
    "  if len(arr) == 1:\n",
    "    return arr\n",
    "  pivot = len(arr)//2\n",
    "  left = merge_sort(arr[:pivot])\n",
    "  right = merge_sort(arr[pivot:len(arr)])\n",
    "  return merge(left, right)\n",
    "\n",
    "\n",
    "def sorting():\n",
    "  arr = [4,3,2,1,5,7,6]\n",
    "  print(merge_sort(arr))\n",
    "sorting()"
   ]
  },
  {
   "cell_type": "markdown",
   "metadata": {},
   "source": [
    "## Dynamic Programming\n",
    "\n",
    "You are climbing a staircase. It takes n steps to reach the top.\n",
    "\n",
    "Each time you can either climb 1 or 2 steps. In how many distinct ways can you climb to the top?"
   ]
  },
  {
   "cell_type": "code",
   "execution_count": 3,
   "metadata": {},
   "outputs": [
    {
     "name": "stdout",
     "output_type": "stream",
     "text": [
      "3\n"
     ]
    }
   ],
   "source": [
    "class Solution:\n",
    "    dp = {}\n",
    "\n",
    "    def climbStairs(self, n: int) -> int:\n",
    "        if n in self.dp:\n",
    "            return self.dp[n]\n",
    "        if n == 1:\n",
    "            return 1\n",
    "        if n == 2:\n",
    "            return 2\n",
    "        one = self.climbStairs(n - 1)\n",
    "        two = self.climbStairs(n - 2)\n",
    "        total = one + two\n",
    "        self.dp[n] = total\n",
    "        return total\n",
    "Sol = Solution()\n",
    "print(Sol.climbStairs(3))"
   ]
  },
  {
   "cell_type": "markdown",
   "metadata": {
    "id": "L3ny7qiqAn49"
   },
   "source": [
    "# Warm Up - Easy"
   ]
  },
  {
   "cell_type": "markdown",
   "metadata": {
    "id": "rBEVoQonBULw"
   },
   "source": [
    "![Image 11-16-23 at 6.15 PM.JPG](data:image/jpeg;base64,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)"
   ]
  },
  {
   "cell_type": "code",
   "execution_count": null,
   "metadata": {
    "colab": {
     "base_uri": "https://localhost:8080/"
    },
    "executionInfo": {
     "elapsed": 2160,
     "status": "ok",
     "timestamp": 1702727895505,
     "user": {
      "displayName": "Mr kayo",
      "userId": "12554278715420552530"
     },
     "user_tz": 360
    },
    "id": "EX-n7F_nejzf",
    "outputId": "85fc0122-10bb-47c3-d61e-c46245d75f3d"
   },
   "outputs": [
    {
     "name": "stdout",
     "output_type": "stream",
     "text": [
      "Enter n to get factorial: 1\n",
      "Factorial of 1 is:  1\n"
     ]
    }
   ],
   "source": [
    "#factorial\n",
    "cache = {}\n",
    "def fact(num):\n",
    "  if num in cache:\n",
    "    return cache[num]\n",
    "  elif num == 1:\n",
    "    return 1\n",
    "  else:\n",
    "    result = num * fact(num - 1)\n",
    "    cache[num] = result\n",
    "    return result\n",
    "\n",
    "\n",
    "\n",
    "def main():\n",
    "  num = int(input(\"Enter n to get factorial: \"))\n",
    "  print('Factorial of',num,'is: ',fact(num))\n",
    "\n",
    "main()"
   ]
  },
  {
   "cell_type": "markdown",
   "metadata": {
    "id": "hmv_t7ZuTjTG"
   },
   "source": [
    "\n",
    " N prime numbers\n",
    "def prime(n):\n",
    "  prime = []\n",
    "\n",
    "  for i in range(1,n-1):\n",
    "    is_prime = True\n",
    "    for j in range(2, int(i/2)+1):\n",
    "      if i % j == 0:\n",
    "        is_prime = False\n",
    "        break\n",
    "    if is_prime:\n",
    "      prime.append(i)\n",
    "  return prime\n",
    "\n",
    "\n",
    "\n",
    "\n",
    "def main():\n",
    "  n = int(input('Enter num to print prime numbers: '))\n",
    "  print('Prime numbers upto: ', n ,' : ', prime(n))\n",
    "\n",
    "\n",
    "main()"
   ]
  },
  {
   "cell_type": "code",
   "execution_count": null,
   "metadata": {
    "colab": {
     "base_uri": "https://localhost:8080/"
    },
    "executionInfo": {
     "elapsed": 5,
     "status": "ok",
     "timestamp": 1700238990554,
     "user": {
      "displayName": "Mr kayo",
      "userId": "12554278715420552530"
     },
     "user_tz": 360
    },
    "id": "NGEA5c62Ft7a",
    "outputId": "46a44554-1cf0-407d-b68e-69f001a647a0"
   },
   "outputs": [
    {
     "name": "stdout",
     "output_type": "stream",
     "text": [
      "Basic only returns if n has square root else -1: \n",
      "\tSquare root of, 11 is : -1\n",
      "Check next for squareroot of any provided number\n",
      "3\n"
     ]
    }
   ],
   "source": [
    "# square root of n\n",
    "# 4 -> 2, 16 -> 4, 25 -> 5\n",
    "\n",
    "def squareRootBasic(num):\n",
    "  for d in range(2,int(num/2) ):\n",
    "    if d*d == num:\n",
    "      return d\n",
    "  return -1\n",
    "\n",
    "def squareRootBinary(num):\n",
    "  left = 1\n",
    "  right = num // 2\n",
    "\n",
    "  while left < right:\n",
    "    mid = (left + right) // 2\n",
    "    if mid * mid == num:\n",
    "      return mid\n",
    "    elif ( num < mid*mid ):\n",
    "      right = mid - 1\n",
    "    else:\n",
    "      left = mid + 1\n",
    "      num = mid\n",
    "\n",
    "  return num\n",
    "\n",
    "\n",
    "def main():\n",
    "  num = 11\n",
    "  result = squareRootBasic(num)\n",
    "  print('Basic only returns if n has square root else -1: ')\n",
    "  print('\\tSquare root of,',num,'is :',result)\n",
    "  print('Check next for squareroot of any provided number')\n",
    "  result2 = squareRootBinary(num)\n",
    "  print(result2)\n",
    "\n",
    "\n",
    "main()"
   ]
  },
  {
   "cell_type": "code",
   "execution_count": null,
   "metadata": {
    "colab": {
     "base_uri": "https://localhost:8080/"
    },
    "executionInfo": {
     "elapsed": 190,
     "status": "ok",
     "timestamp": 1717515843882,
     "user": {
      "displayName": "Mr kayo",
      "userId": "12554278715420552530"
     },
     "user_tz": 420
    },
    "id": "ArJl4RlpG0rO",
    "outputId": "8b24b614-9eca-4ee8-a7bd-a07fe5368375"
   },
   "outputs": [
    {
     "name": "stdout",
     "output_type": "stream",
     "text": [
      "Given string is plaindrome:  False\n"
     ]
    }
   ],
   "source": [
    "#check if string is palindrome\n",
    "def pali(str):\n",
    "  first = 0\n",
    "  last = len(str)-1\n",
    "  pali = True\n",
    "  while first < last:\n",
    "    if str[first] != str[last]:\n",
    "      return False\n",
    "    first+=1\n",
    "    last-=1\n",
    "  return True\n",
    "\n",
    "\n",
    "\n",
    "def main():\n",
    "  str = 'saaS'\n",
    "  print('Given string is plaindrome: ',pali(str))\n",
    "\n",
    "\n",
    "main()"
   ]
  }
 ],
 "metadata": {
  "colab": {
   "authorship_tag": "ABX9TyOyuKOHs+eKCi2T4UgqNhzL",
   "collapsed_sections": [
    "jRDYkaJTl3Yh",
    "Q6uoCQXDqWL6"
   ],
   "provenance": [],
   "toc_visible": true
  },
  "kernelspec": {
   "display_name": "Python 3",
   "name": "python3"
  },
  "language_info": {
   "codemirror_mode": {
    "name": "ipython",
    "version": 3
   },
   "file_extension": ".py",
   "mimetype": "text/x-python",
   "name": "python",
   "nbconvert_exporter": "python",
   "pygments_lexer": "ipython3",
   "version": "3.10.13"
  }
 },
 "nbformat": 4,
 "nbformat_minor": 0
}
