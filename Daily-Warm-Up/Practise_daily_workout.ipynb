{
 "cells": [
  {
   "cell_type": "markdown",
   "metadata": {
    "id": "wqqcGLmysP1K"
   },
   "source": [
    "# Weekly Update\n",
    "After each week update [files here.](https://drive.google.com/drive/folders/1XtnjdFidzpW-dh2tvKhfVLE7orXuFMf3?usp=drive_link)"
   ]
  },
  {
   "cell_type": "markdown",
   "metadata": {
    "id": "kNJm1igJT8D7"
   },
   "source": [
    "#Daily Questions\n",
    "\n",
    "1. DFS\n",
    "2. BFS\n",
    "3. Binary Search\n",
    "4. Sliding Window\n",
    "5. Linked List\n",
    "6. Recursion\n",
    "7. Backtrack\n",
    "8. Sorting\n",
    "9. DP\n",
    "10. Graph (coming soon)\n",
    "\n"
   ]
  },
  {
   "cell_type": "code",
   "execution_count": 1,
   "metadata": {
    "colab": {
     "base_uri": "https://localhost:8080/"
    },
    "executionInfo": {
     "elapsed": 5,
     "status": "ok",
     "timestamp": 1721107296988,
     "user": {
      "displayName": "Mr kayo",
      "userId": "12554278715420552530"
     },
     "user_tz": 420
    },
    "id": "5APvoN7R9ZvS",
    "outputId": "c6203dce-1003-4894-948f-4aeb91de3f8e"
   },
   "outputs": [
    {
     "name": "stdout",
     "output_type": "stream",
     "text": [
      "Check updated on Sun - Jul 20\n",
      "Last practise on Nov 14\n",
      "Start\n",
      "Commit- Workout updated 🏃🏻‍♂️\n"
     ]
    }
   ],
   "source": [
    "print(\"Check updated on Sun - Jul 20\")\n",
    "print(\"Last practise on Jan 28\")\n",
    "print(\"Start\")\n",
    "print(\"Commit- Workout updated 🏃🏻‍♂️\")"
   ]
  },
  {
   "cell_type": "markdown",
   "metadata": {},
   "source": [
    "1. DFS"
   ]
  },
  {
   "cell_type": "markdown",
   "metadata": {},
   "source": [
    "Depth of the Tree"
   ]
  },
  {
   "cell_type": "code",
   "execution_count": 4,
   "metadata": {
    "colab": {
     "base_uri": "https://localhost:8080/"
    },
    "executionInfo": {
     "elapsed": 192,
     "status": "ok",
     "timestamp": 1721107393603,
     "user": {
      "displayName": "Mr kayo",
      "userId": "12554278715420552530"
     },
     "user_tz": 420
    },
    "id": "1B96yCtF72ZV",
    "outputId": "427736b0-77f3-4f56-db64-a491082c4ecf"
   },
   "outputs": [
    {
     "name": "stdout",
     "output_type": "stream",
     "text": [
      "4\n"
     ]
    }
   ],
   "source": [
    "from typing import Optional\n",
    "\n",
    "class TreeNode:\n",
    "  def __init__(self, val=0, left=None, right=None):\n",
    "      self.val = val\n",
    "      self.left = left\n",
    "      self.right = right\n",
    "class SolutionBST:\n",
    "   def maxDiameter(self, root):\n",
    "      depth = 0\n",
    "      def dfs(node):\n",
    "         nonlocal depth\n",
    "         if not node:\n",
    "            return 0\n",
    "         right = dfs(node.right)\n",
    "         left = dfs(node.left)\n",
    "\n",
    "         depth = max(depth, left + right)\n",
    "         return 1 + max(left, right)\n",
    "      dfs(root)\n",
    "      return depth\n",
    "      \n",
    "      \n",
    "      \n",
    "          \n",
    "\n",
    "sol = SolutionBST()\n",
    "# root1 = TreeNode(1, (TreeNode( 2)), TreeNode(3) )\n",
    "# root2 = TreeNode(1, (TreeNode( 2)), TreeNode(3) )\n",
    "root = TreeNode(4, (TreeNode( 2, TreeNode(3), TreeNode(5)) ) , (TreeNode(9, None, TreeNode(7))) ) #15\n",
    "print(sol.maxDiameter(root))"
   ]
  },
  {
   "cell_type": "markdown",
   "metadata": {},
   "source": [
    "2. BFS"
   ]
  },
  {
   "cell_type": "code",
   "execution_count": 7,
   "metadata": {
    "colab": {
     "base_uri": "https://localhost:8080/"
    },
    "executionInfo": {
     "elapsed": 170,
     "status": "ok",
     "timestamp": 1721107492336,
     "user": {
      "displayName": "Mr kayo",
      "userId": "12554278715420552530"
     },
     "user_tz": 420
    },
    "id": "n97GxAEa5TV-",
    "outputId": "0f87539d-920b-4dae-e39b-41bf10378d20"
   },
   "outputs": [
    {
     "name": "stdout",
     "output_type": "stream",
     "text": [
      "[4, 11, 15]\n"
     ]
    }
   ],
   "source": [
    "from collections import deque\n",
    "class TreeNode:\n",
    "  def __init__(self, val=0, left=None, right=None):\n",
    "      self.val = val\n",
    "      self.left = left\n",
    "      self.right = right\n",
    "\n",
    "class BFSSolution:\n",
    "    def level_order_sum(self, root: TreeNode):\n",
    "       if not root:\n",
    "        return []\n",
    "       queue = deque([root])\n",
    "       res = []\n",
    "       while queue:\n",
    "          le = len(queue)\n",
    "          sum = 0\n",
    "          for _ in range(le):\n",
    "             cur = queue.popleft()\n",
    "             sum += cur.val\n",
    "\n",
    "             if cur.left:\n",
    "                queue.append(cur.left)\n",
    "             if cur.right:\n",
    "                queue.append(cur.right)\n",
    "        \n",
    "          res.append(sum)\n",
    "       return res   \n",
    "             \n",
    "        \n",
    "\n",
    "\n",
    "sol = BFSSolution()\n",
    "# root1 = TreeNode(1, (TreeNode( 2)), TreeNode(3) )\n",
    "# root2 = TreeNode(1, (TreeNode( 2)), TreeNode(3) )\n",
    "root = TreeNode(4, (TreeNode( 2, TreeNode(3), TreeNode(5)) ) , (TreeNode(9, None, TreeNode(7))) ) #[4, 11, 15]\n",
    "print(sol.level_order_sum(root))"
   ]
  },
  {
   "cell_type": "markdown",
   "metadata": {},
   "source": [
    "3. Binary Search"
   ]
  },
  {
   "cell_type": "code",
   "execution_count": 11,
   "metadata": {
    "colab": {
     "base_uri": "https://localhost:8080/"
    },
    "executionInfo": {
     "elapsed": 176,
     "status": "ok",
     "timestamp": 1721107577629,
     "user": {
      "displayName": "Mr kayo",
      "userId": "12554278715420552530"
     },
     "user_tz": 420
    },
    "id": "JvZYhRJi8bxF",
    "outputId": "312739fe-38ba-49e7-fbc8-67df5320b7b2"
   },
   "outputs": [
    {
     "name": "stdout",
     "output_type": "stream",
     "text": [
      "[1, 2, 3, 5, 6, 7]\n",
      "2\n"
     ]
    }
   ],
   "source": [
    "def search(arr, target):\n",
    "    arr.sort()\n",
    "    print(arr)\n",
    "    l,r = 0, len(arr)\n",
    "    while l <= r:\n",
    "        m = (l + r) //2\n",
    "        if target == arr[m]:\n",
    "            return m\n",
    "        elif target < arr[m]:\n",
    "            r = m - 1\n",
    "        else:\n",
    "            l = m + 1\n",
    "    return -1\n",
    "   \n",
    "    \n",
    "    \n",
    "   \n",
    "\n",
    "print(search([2,3,1,5,6,7], 3))"
   ]
  },
  {
   "cell_type": "markdown",
   "metadata": {
    "id": "_IT2rrRAYMFQ"
   },
   "source": [
    "4. Sliding Window"
   ]
  },
  {
   "cell_type": "code",
   "execution_count": 17,
   "metadata": {
    "colab": {
     "base_uri": "https://localhost:8080/"
    },
    "executionInfo": {
     "elapsed": 179,
     "status": "ok",
     "timestamp": 1721107707576,
     "user": {
      "displayName": "Mr kayo",
      "userId": "12554278715420552530"
     },
     "user_tz": 420
    },
    "id": "XK9wszpJ-X6-",
    "outputId": "b06b1506-2b5a-4efc-ae0d-058cde3040df"
   },
   "outputs": [
    {
     "name": "stdout",
     "output_type": "stream",
     "text": [
      "Slide Window: \n",
      "Lenght of Longest SubString:  4\n"
     ]
    }
   ],
   "source": [
    "from typing import List\n",
    "class SlideWindow:\n",
    "    def lengthOfLongestSubstring(self, s: str) -> int:\n",
    "        l, r, lon = 0, 0, 0\n",
    "        seen = set()\n",
    "        while r < len(s):\n",
    "            if s[r] not in seen:\n",
    "                seen.add(s[r])  \n",
    "                r += 1\n",
    "                lon = max(lon, r - l + 1)\n",
    "                \n",
    "            else:\n",
    "                seen.remove(s[l])\n",
    "                l+=1\n",
    "        return lon\n",
    "        \n",
    "       \n",
    "        \n",
    "'''\n",
    "  Please check leetcode for correct answer\n",
    "'''\n",
    "        \n",
    "        \n",
    "        \n",
    "       \n",
    "sol = SlideWindow()\n",
    "print(\"Slide Window: \")\n",
    "print(\"Lenght of Longest SubString: \", sol.lengthOfLongestSubstring(\"abcabcbb\") )\n",
    "# print(\"Lenght of Longest SubString: \", sol.lengthOfLongestSubstring(\"dvdf\") )\n",
    "# print(\"Long Sub Array - \", sol.longestAlternatingSubarray([3,2,5,4], 5))"
   ]
  },
  {
   "cell_type": "markdown",
   "metadata": {},
   "source": [
    "5. Linked List"
   ]
  },
  {
   "cell_type": "code",
   "execution_count": 19,
   "metadata": {
    "colab": {
     "base_uri": "https://localhost:8080/"
    },
    "executionInfo": {
     "elapsed": 175,
     "status": "ok",
     "timestamp": 1721107772799,
     "user": {
      "displayName": "Mr kayo",
      "userId": "12554278715420552530"
     },
     "user_tz": 420
    },
    "id": "UgyJGxeGLy1O",
    "outputId": "421f97d6-ecea-4730-e679-1569942783c5"
   },
   "outputs": [
    {
     "name": "stdout",
     "output_type": "stream",
     "text": [
      "1\n",
      "2\n",
      "3\n",
      "4\n",
      "5\n"
     ]
    }
   ],
   "source": [
    "from typing import Optional\n",
    "class ListNode:\n",
    "  def __init__(self, val=0, next=None):\n",
    "    self.val = val\n",
    "    self.next = next\n",
    "\n",
    "class SolutionLinkedList:\n",
    "  def removeElements(self, head: Optional[ListNode], val: int) -> Optional[ListNode]:\n",
    "    dummy = ListNode(0)\n",
    "    dummy.next = head\n",
    "    cur = dummy\n",
    "    while cur.next:\n",
    "      if cur.next.val == val:\n",
    "        cur.next = cur.next.next\n",
    "      else:\n",
    "        cur = cur.next\n",
    "    return dummy.next\n",
    "  \n",
    "    \n",
    "\n",
    "\n",
    "    \n",
    "   \n",
    "# Example usage\n",
    "head = ListNode(1,\n",
    "       ListNode(2,\n",
    "       ListNode(6,\n",
    "       ListNode(3,\n",
    "       ListNode(4,\n",
    "       ListNode(5,\n",
    "       ListNode(6)))))))\n",
    "\n",
    "\n",
    "\n",
    "\n",
    "\n",
    "solution = SolutionLinkedList()\n",
    "new_head = solution.removeElements(head, 6)\n",
    "while new_head:\n",
    "  print(new_head.val)\n",
    "  new_head = new_head.next"
   ]
  },
  {
   "cell_type": "markdown",
   "metadata": {},
   "source": [
    "6. Recursion"
   ]
  },
  {
   "cell_type": "code",
   "execution_count": 24,
   "metadata": {
    "colab": {
     "base_uri": "https://localhost:8080/"
    },
    "executionInfo": {
     "elapsed": 167,
     "status": "ok",
     "timestamp": 1721107836034,
     "user": {
      "displayName": "Mr kayo",
      "userId": "12554278715420552530"
     },
     "user_tz": 420
    },
    "id": "CS6mlDK--TF6",
    "outputId": "f83cfca8-736b-48a4-9700-970de5135c24"
   },
   "outputs": [
    {
     "name": "stdout",
     "output_type": "stream",
     "text": [
      "2\n",
      "1\n",
      "4\n",
      "3\n"
     ]
    }
   ],
   "source": [
    "from typing import Optional\n",
    "class ListNode2:\n",
    "  def __init__(self, val=0, next=None):\n",
    "    self.val = val\n",
    "    self.next = next\n",
    "\n",
    "class RecurSolutionLinkedList:\n",
    "  # check for name ListNode use ListNode2\n",
    "  def swapPairs(self, head: Optional[ListNode2])-> Optional[ListNode2]:\n",
    "    if not head:\n",
    "      return\n",
    "    if not head.next:\n",
    "      return head\n",
    "    temp = head.next\n",
    "    head.next = self.swapPairs(head.next.next)\n",
    "    temp.next = head\n",
    "    return temp\n",
    "    \n",
    "    \n",
    "    \n",
    "    \n",
    "    \n",
    "'''\n",
    "\n",
    "'''\n",
    "\n",
    "# Example usage\n",
    "head = ListNode2(1)\n",
    "head.next = ListNode2(2)\n",
    "head.next.next = ListNode2(3)\n",
    "head.next.next.next = ListNode2(4)\n",
    "\n",
    "solution = RecurSolutionLinkedList()\n",
    "new_head = solution.swapPairs(head)\n",
    "while new_head:\n",
    "  print(new_head.val)\n",
    "  new_head = new_head.next"
   ]
  },
  {
   "cell_type": "markdown",
   "metadata": {},
   "source": [
    "7. Backtrack"
   ]
  },
  {
   "cell_type": "code",
   "execution_count": 28,
   "metadata": {
    "colab": {
     "base_uri": "https://localhost:8080/"
    },
    "executionInfo": {
     "elapsed": 184,
     "status": "ok",
     "timestamp": 1721107899266,
     "user": {
      "displayName": "Mr kayo",
      "userId": "12554278715420552530"
     },
     "user_tz": 420
    },
    "id": "RoJ_bO1z9mch",
    "outputId": "f1e79e13-ab42-4b0b-f1c8-f0d7fde98650"
   },
   "outputs": [
    {
     "name": "stdout",
     "output_type": "stream",
     "text": [
      "['ad', 'ae', 'af', 'bd', 'be', 'bf', 'cd', 'ce', 'cf']\n"
     ]
    }
   ],
   "source": [
    "from typing import List\n",
    "class Solution:\n",
    "    def letterCombinations(self, digits: str) -> List[str]:\n",
    "      res = []\n",
    "      digitToChar = { \"2\": \"abc\",\n",
    "                     \"3\": \"def\",\n",
    "                     \"4\": \"ghi\",\n",
    "                     \"5\": \"jkl\",\n",
    "                     \"6\": \"mno\",\n",
    "                     \"7\": \"pqrs\",\n",
    "                     \"8\": \"tuv\",\n",
    "                     \"9\": \"wxyz\",\n",
    "      }\n",
    "      def back(i, cur):\n",
    "         if len(digits) == len(cur):\n",
    "            res.append(cur)\n",
    "            return\n",
    "         for s in digitToChar[digits[i]]:\n",
    "            back(i + 1, cur + s)\n",
    "      if digits:\n",
    "         back(0, \"\")\n",
    "      return res\n",
    "     \n",
    "      \n",
    "      \n",
    "      \n",
    "         \n",
    "     \n",
    "\n",
    "#get include and not include vack track\n",
    "\n",
    "# next replace the problem from 'Practise Fun' sheets list\n",
    "sol = Solution()\n",
    "print(sol.letterCombinations(\"23\"))"
   ]
  },
  {
   "cell_type": "markdown",
   "metadata": {
    "id": "hzHoKU8RlegJ"
   },
   "source": [
    "8. Merge Sort"
   ]
  },
  {
   "cell_type": "code",
   "execution_count": 29,
   "metadata": {
    "colab": {
     "base_uri": "https://localhost:8080/"
    },
    "executionInfo": {
     "elapsed": 174,
     "status": "ok",
     "timestamp": 1721108040587,
     "user": {
      "displayName": "Mr kayo",
      "userId": "12554278715420552530"
     },
     "user_tz": 420
    },
    "id": "ZF_PaobalhCC",
    "outputId": "fff2fa28-9c23-482b-b851-837f1cb59b19"
   },
   "outputs": [
    {
     "name": "stdout",
     "output_type": "stream",
     "text": [
      "Unsorted -  [4, 3, 2, 3, 4, 1, 5, 7, 6]\n",
      "Sorted -  [1, 2, 3, 3, 4, 4, 5, 6, 7]\n"
     ]
    }
   ],
   "source": [
    "def merge(a1, a2):\n",
    "  N1, N2, = len(a1), len(a2)\n",
    "  l1, l2 = 0, 0\n",
    "  res = []\n",
    "\n",
    "  while l1 < N1 and l2 < N2:\n",
    "    if a1[l1] <= a2[l2]:\n",
    "      res.append(a1[l1])\n",
    "      l1+=1\n",
    "    else:\n",
    "      res.append(a2[l2])\n",
    "      l2+=1\n",
    "  while l1 < N1:\n",
    "    res.append(a1[l1])\n",
    "    l1+=1\n",
    "  while l2 < N2:\n",
    "      res.append(a2[l2])\n",
    "      l2+=1\n",
    "\n",
    "  return res\n",
    "\n",
    "def merge_sort(arr):\n",
    "  if len(arr) == 1:\n",
    "    return arr\n",
    "  pivot = len(arr) // 2\n",
    "  left = merge_sort(arr[0:pivot])\n",
    "  right = merge_sort(arr[pivot:len(arr)])\n",
    "  return merge(left, right)\n",
    "\n",
    "  \n",
    "def sorting():\n",
    "  arr = [4,3,2,3,4,1,5,7,6]\n",
    "  print(f'Unsorted - ',arr)\n",
    "  print(f'Sorted - ', merge_sort(arr))\n",
    "sorting()"
   ]
  },
  {
   "cell_type": "markdown",
   "metadata": {},
   "source": [
    "9. Dynamic Programming"
   ]
  },
  {
   "cell_type": "code",
   "execution_count": 30,
   "metadata": {},
   "outputs": [
    {
     "name": "stdout",
     "output_type": "stream",
     "text": [
      "3\n"
     ]
    }
   ],
   "source": [
    "class Solution:\n",
    "    dp={}\n",
    "    def climbStairs(self, n: int) -> int:\n",
    "        if n in self.dp:\n",
    "            return self.dp[n]\n",
    "        if n ==1:\n",
    "            return 1\n",
    "        if n == 2:\n",
    "            return 2\n",
    "        o = self.climbStairs(n - 1)\n",
    "        t = self.climbStairs(n - 2)\n",
    "        tot = o + t\n",
    "        self.dp[n] = tot\n",
    "        return tot\n",
    "       \n",
    "\n",
    "      \n",
    "        \n",
    "        \n",
    "      \n",
    "        \n",
    "        \n",
    "Sol = Solution()\n",
    "print(Sol.climbStairs(3))"
   ]
  },
  {
   "cell_type": "markdown",
   "metadata": {
    "id": "fPiCrvUWl59z"
   },
   "source": [
    "# Notes\n"
   ]
  },
  {
   "cell_type": "markdown",
   "metadata": {
    "id": "xgxWMoF7mBnn"
   },
   "source": [
    "* DFS/BFS - check new question\n",
    "* Binary Search - check for target\n",
    "* Sliding Window - subarray with Capital and small\n",
    "* Recursion - pascal number\n",
    "* LinkedList - swap alternate numbers\n",
    "* BackTrack - phone # combination\n",
    "* Sorting - (1051. Height Checker)"
   ]
  }
 ],
 "metadata": {
  "colab": {
   "authorship_tag": "ABX9TyMLD7ujzLZ+F/mdreohfL5Y",
   "provenance": []
  },
  "kernelspec": {
   "display_name": "Python 3",
   "language": "python",
   "name": "python3"
  },
  "language_info": {
   "codemirror_mode": {
    "name": "ipython",
    "version": 3
   },
   "file_extension": ".py",
   "mimetype": "text/x-python",
   "name": "python",
   "nbconvert_exporter": "python",
   "pygments_lexer": "ipython3",
   "version": "3.12.1"
  }
 },
 "nbformat": 4,
 "nbformat_minor": 4
}
